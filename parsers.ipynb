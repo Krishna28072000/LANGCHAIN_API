{
 "cells": [
  {
   "cell_type": "markdown",
   "metadata": {},
   "source": [
    "# Implementation of Parsers in Langchain"
   ]
  },
  {
   "cell_type": "markdown",
   "metadata": {},
   "source": [
    "# set up an environment "
   ]
  },
  {
   "cell_type": "code",
   "execution_count": 14,
   "metadata": {},
   "outputs": [],
   "source": [
    "import os\n",
    "os.environ[\"OPEN_API_KEY\"] = \"ENTER_OPENAI_API_KEY_HERE\""
   ]
  },
  {
   "cell_type": "markdown",
   "metadata": {},
   "source": [
    "This code snippet is typically used to store sensitive information like API keys securely within an environment variable.\n",
    "This approach is commonly used when working with APIs like OpenAI's GPT models."
   ]
  },
  {
   "cell_type": "markdown",
   "metadata": {},
   "source": [
    "# Import Langchain llms"
   ]
  },
  {
   "cell_type": "code",
   "execution_count": 16,
   "metadata": {},
   "outputs": [],
   "source": [
    "from langchain.llms import OpenAI "
   ]
  },
  {
   "cell_type": "markdown",
   "metadata": {},
   "source": [
    "\n",
    "This code imports the OpenAI class from the langchain.llms module.\n",
    "\n",
    "Purpose: The OpenAI class is part of the LangChain library, which simplifies working with language models.\n",
    "Use Case: It allows you to integrate OpenAI's language models (like GPT) into your applications for tasks like text generation, summarization, or answering questions."
   ]
  },
  {
   "cell_type": "code",
   "execution_count": 17,
   "metadata": {},
   "outputs": [
    {
     "name": "stdout",
     "output_type": "stream",
     "text": [
      "\n",
      "\n",
      "As of October 2021, the current president of Russia is Vladimir Putin. He has been in office since 2012 and is currently serving his fourth term as president.\n"
     ]
    }
   ],
   "source": [
    "output = model.invoke(\"who is the current president of russia\")\n",
    "print(output)"
   ]
  },
  {
   "cell_type": "markdown",
   "metadata": {},
   "source": [
    "# Implementing PromptTemplate"
   ]
  },
  {
   "cell_type": "code",
   "execution_count": 19,
   "metadata": {},
   "outputs": [],
   "source": [
    "from langchain.prompts import PromptTemplate\n",
    "json_prompt = PromptTemplate.from_template(\n",
    "    template=\"Return a JSON object with the keys: name, birthdate, birthplace, occupation, and nationality based on the following question: {question}\"\n",
    ")"
   ]
  },
  {
   "cell_type": "markdown",
   "metadata": {},
   "source": [
    "This code imports PromptTemplate from LangChain and creates a template to generate structured prompts for a language model. The template asks the model to return a JSON object with specific keys based on a provided question. It ensures standardized output for tasks requiring structured data."
   ]
  },
  {
   "cell_type": "code",
   "execution_count": 21,
   "metadata": {},
   "outputs": [],
   "source": [
    "j_pipe = json_prompt|model"
   ]
  },
  {
   "cell_type": "markdown",
   "metadata": {},
   "source": [
    "The above code acts as a pipeline which combines both prompt template and model"
   ]
  },
  {
   "cell_type": "code",
   "execution_count": 22,
   "metadata": {},
   "outputs": [
    {
     "data": {
      "text/plain": [
       "'\\n\\n{\\n    \"name\": \"Prabhas\",\\n    \"birthdate\": \"October 23, 1979\",\\n    \"birthplace\": \"Chennai, Tamil Nadu, India\",\\n    \"occupation\": \"Actor\",\\n    \"nationality\": \"Indian\"\\n}'"
      ]
     },
     "execution_count": 22,
     "metadata": {},
     "output_type": "execute_result"
    }
   ],
   "source": [
    "j_pipe.invoke(\"Prabhas\")"
   ]
  },
  {
   "cell_type": "code",
   "execution_count": 23,
   "metadata": {},
   "outputs": [
    {
     "data": {
      "text/plain": [
       "'\\n\\n{\\n\\t\"name\": \"Narendra Modi\",\\n\\t\"birthdate\": \"September 17, 1950\",\\n\\t\"birthplace\": \"Vadnagar, India\",\\n\\t\"occupation\": \"Prime Minister\",\\n\\t\"nationality\": \"Indian\"\\n}'"
      ]
     },
     "execution_count": 23,
     "metadata": {},
     "output_type": "execute_result"
    }
   ],
   "source": [
    "j_pipe.invoke(\"Narendra Modi\")"
   ]
  },
  {
   "cell_type": "code",
   "execution_count": 24,
   "metadata": {},
   "outputs": [
    {
     "data": {
      "text/plain": [
       "'\\n\\n{\\n  \"name\": \"Osama bin Laden\",\\n  \"birthdate\": \"March 10, 1957\",\\n  \"birthplace\": \"Riyadh, Saudi Arabia\",\\n  \"occupation\": \"Terrorist\",\\n  \"nationality\": \"Saudi Arabian\"\\n}'"
      ]
     },
     "execution_count": 24,
     "metadata": {},
     "output_type": "execute_result"
    }
   ],
   "source": [
    "j_pipe.invoke(\"Osama bin laden\")"
   ]
  },
  {
   "cell_type": "code",
   "execution_count": 25,
   "metadata": {},
   "outputs": [
    {
     "data": {
      "text/plain": [
       "'\\n\\n{\\n  \"name\": \"Kamala Harris\",\\n  \"birthdate\": \"October 20, 1964\",\\n  \"birthplace\": \"Oakland, California\",\\n  \"occupation\": \"Vice President of the United States\",\\n  \"nationality\": \"American\"\\n}'"
      ]
     },
     "execution_count": 25,
     "metadata": {},
     "output_type": "execute_result"
    }
   ],
   "source": [
    "j_pipe.invoke(\"Kamala Harris\")"
   ]
  },
  {
   "cell_type": "markdown",
   "metadata": {},
   "source": [
    "# Implementing Simple JSON Output Parser"
   ]
  },
  {
   "cell_type": "code",
   "execution_count": 29,
   "metadata": {},
   "outputs": [],
   "source": [
    "from langchain.output_parsers.json import SimpleJsonOutputParser\n",
    "json_parser = SimpleJsonOutputParser()"
   ]
  },
  {
   "cell_type": "markdown",
   "metadata": {},
   "source": [
    "This code imports the SimpleJsonOutputParser from LangChain's output_parsers.json module and initializes it.The parser simplifies the process of interpreting text outputs from a language model as JSON objects.It's used to parse and structure the model's output into a JSON format for further processing."
   ]
  },
  {
   "cell_type": "code",
   "execution_count": 30,
   "metadata": {},
   "outputs": [],
   "source": [
    "j_pipe = json_prompt|model|json_parser"
   ]
  },
  {
   "cell_type": "code",
   "execution_count": 31,
   "metadata": {},
   "outputs": [
    {
     "data": {
      "text/plain": [
       "{'name': 'Prabhas',\n",
       " 'birthdate': 'October 23, 1979',\n",
       " 'birthplace': 'Chennai, Tamil Nadu, India',\n",
       " 'occupation': 'Actor',\n",
       " 'nationality': 'Indian'}"
      ]
     },
     "execution_count": 31,
     "metadata": {},
     "output_type": "execute_result"
    }
   ],
   "source": [
    "j_pipe.invoke(\"Prabhas\")"
   ]
  },
  {
   "cell_type": "code",
   "execution_count": 33,
   "metadata": {},
   "outputs": [
    {
     "data": {
      "text/plain": [
       "{'name': 'Burj Khalifa',\n",
       " 'birthdate': 'January 4, 2010',\n",
       " 'birthplace': 'Dubai, United Arab Emirates',\n",
       " 'occupation': 'Skyscraper',\n",
       " 'nationality': 'Emirati'}"
      ]
     },
     "execution_count": 33,
     "metadata": {},
     "output_type": "execute_result"
    }
   ],
   "source": [
    "j_pipe.invoke(\"Burj Khalifa provide me in json format \")"
   ]
  },
  {
   "cell_type": "code",
   "execution_count": 40,
   "metadata": {},
   "outputs": [],
   "source": [
    "json_prompt1 = PromptTemplate.from_template(\n",
    "    template=\"Analyze the sentiment of the following text and return a JSON object with sentiment (positive/neutral/negative), confidence_score,loss, and keywords: {text}\"\n",
    ")"
   ]
  },
  {
   "cell_type": "code",
   "execution_count": 48,
   "metadata": {},
   "outputs": [],
   "source": [
    "j_pipe1 = json_prompt1|model|json_parser"
   ]
  },
  {
   "cell_type": "code",
   "execution_count": 49,
   "metadata": {},
   "outputs": [
    {
     "data": {
      "text/plain": [
       "{'sentiment': 'negative',\n",
       " 'confidence_score': 0.85,\n",
       " 'loss': 'low',\n",
       " 'keywords': ['World War 2']}"
      ]
     },
     "execution_count": 49,
     "metadata": {},
     "output_type": "execute_result"
    }
   ],
   "source": [
    "j_pipe1.invoke(\"provide me the sentiment of World War 2\")"
   ]
  },
  {
   "cell_type": "code",
   "execution_count": 50,
   "metadata": {},
   "outputs": [
    {
     "data": {
      "text/plain": [
       "{'sentiment': 'neutral',\n",
       " 'confidence_score': 0.5,\n",
       " 'loss': 0.2,\n",
       " 'keywords': ['Kalki2898AD']}"
      ]
     },
     "execution_count": 50,
     "metadata": {},
     "output_type": "execute_result"
    }
   ],
   "source": [
    "j_pipe1.invoke(\"provide me the sentiment of Kalki2898AD\")"
   ]
  },
  {
   "cell_type": "code",
   "execution_count": 52,
   "metadata": {},
   "outputs": [
    {
     "data": {
      "text/plain": [
       "{'sentiment': 'neutral',\n",
       " 'confidence_score': 0.5,\n",
       " 'loss': 0.5,\n",
       " 'keywords': ['sentiment', 'Generative AI']}"
      ]
     },
     "execution_count": 52,
     "metadata": {},
     "output_type": "execute_result"
    }
   ],
   "source": [
    "j_pipe1.invoke(\"provide me the sentiment of Generative AI\")"
   ]
  },
  {
   "cell_type": "code",
   "execution_count": 53,
   "metadata": {},
   "outputs": [],
   "source": [
    "json_prompt2 = PromptTemplate.from_template(\n",
    "    template=\"Summarize the following text into a JSON object with keys: summary, key_points, and category (e.g., technology, health, finance): {text}\"\n",
    ")"
   ]
  },
  {
   "cell_type": "code",
   "execution_count": 54,
   "metadata": {},
   "outputs": [],
   "source": [
    "j_pipe2 = json_prompt2|model|json_parser"
   ]
  },
  {
   "cell_type": "code",
   "execution_count": 60,
   "metadata": {},
   "outputs": [
    {
     "data": {
      "text/plain": [
       "{'summary': 'Salaar is an upcoming Indian action thriller film directed by Prashanth Neel and starring Prabhas. It is set to be released in multiple languages including Telugu, Tamil, Hindi, and Kannada.',\n",
       " 'key_points': ['Directed by Prashanth Neel',\n",
       "  'Starring Prabhas',\n",
       "  'Releasing in multiple languages'],\n",
       " 'category': 'Film'}"
      ]
     },
     "execution_count": 60,
     "metadata": {},
     "output_type": "execute_result"
    }
   ],
   "source": [
    "j_pipe2.invoke(\"provide me the summary of movie name salaar\")"
   ]
  },
  {
   "cell_type": "code",
   "execution_count": 61,
   "metadata": {},
   "outputs": [
    {
     "data": {
      "text/plain": [
       "{'summary': 'Udaipur is a city located in the state of Rajasthan, known for its beautiful lakes, palaces, and rich history.',\n",
       " 'key_points': ['Located in Rajasthan',\n",
       "  'Known for lakes, palaces, and history'],\n",
       " 'category': 'travel'}"
      ]
     },
     "execution_count": 61,
     "metadata": {},
     "output_type": "execute_result"
    }
   ],
   "source": [
    "j_pipe2.invoke(\"provide me the summary of udaipur in rajasthan\")"
   ]
  },
  {
   "cell_type": "code",
   "execution_count": 62,
   "metadata": {},
   "outputs": [
    {
     "data": {
      "text/plain": [
       "{'summary': 'Artificial intelligence (AI) is a branch of computer science that focuses on creating intelligent machines that can think and learn like humans.',\n",
       " 'key_points': ['AI involves the development of algorithms and computer programs to perform tasks that usually require human intelligence.',\n",
       "  'Some examples of AI applications include speech recognition, natural language processing, and computer vision.',\n",
       "  'AI has the potential to greatly impact various industries, including healthcare, finance, and technology.',\n",
       "  'However, concerns have been raised about the ethical and societal implications of AI, such as job displacement and bias.'],\n",
       " 'category': 'technology'}"
      ]
     },
     "execution_count": 62,
     "metadata": {},
     "output_type": "execute_result"
    }
   ],
   "source": [
    "j_pipe2.invoke(\"provide me the summary of Artificial intelligence\")"
   ]
  },
  {
   "cell_type": "code",
   "execution_count": 63,
   "metadata": {},
   "outputs": [
    {
     "data": {
      "text/plain": [
       "{'summary': 'Data science is a multidisciplinary field that combines statistics, computer science, and information science to extract knowledge and insights from data.',\n",
       " 'key_points': ['Data science involves collecting, organizing, and analyzing large amounts of data to make predictions and inform decision-making.',\n",
       "  'It is used in various industries such as healthcare, finance, and technology to improve processes and gain a competitive edge.',\n",
       "  'Skills in programming, statistics, and data visualization are essential for a successful career in data science.'],\n",
       " 'category': 'technology'}"
      ]
     },
     "execution_count": 63,
     "metadata": {},
     "output_type": "execute_result"
    }
   ],
   "source": [
    "j_pipe2.invoke(\"provide me the summary of Data science\")"
   ]
  },
  {
   "cell_type": "code",
   "execution_count": 64,
   "metadata": {},
   "outputs": [],
   "source": [
    "json_prompt3 = PromptTemplate.from_template(\n",
    "    template=\"Return a JSON object with keys: user_intent, entities, and response_suggestions based on the user's query: {query}\"\n",
    ")"
   ]
  },
  {
   "cell_type": "code",
   "execution_count": 65,
   "metadata": {},
   "outputs": [],
   "source": [
    "j_pipe3 = json_prompt3|model|json_parser"
   ]
  },
  {
   "cell_type": "code",
   "execution_count": 134,
   "metadata": {},
   "outputs": [
    {
     "data": {
      "text/plain": [
       "{'user_intent': 'information',\n",
       " 'entities': ['space x', 'latest projects'],\n",
       " 'response_suggestions': ['Can you tell me more specifically which projects you would like information about?',\n",
       "  \"Sure, here is the latest information on Space X's projects.\"]}"
      ]
     },
     "execution_count": 134,
     "metadata": {},
     "output_type": "execute_result"
    }
   ],
   "source": [
    "j_pipe3.invoke(\"provide me infrmation about space x latest projects \")"
   ]
  },
  {
   "cell_type": "code",
   "execution_count": 72,
   "metadata": {},
   "outputs": [
    {
     "data": {
      "text/plain": [
       "{'user_intent': 'NASA workshops and projefcts, mars explorations by astronauts',\n",
       " 'entities': ['NASA',\n",
       "  'workshops',\n",
       "  'projects',\n",
       "  'Mars explorations',\n",
       "  'astronauts'],\n",
       " 'response_suggestions': ['Yes, NASA regularly holds workshops and projects for the public to learn more about space exploration.',\n",
       "  'As for Mars explorations by astronauts, there are plans in place for future missions to the red planet. You can visit the NASA website for more information.',\n",
       "  'Currently, there are no specific dates set for astronaut missions to Mars, but NASA is actively working towards sending humans to the planet.']}"
      ]
     },
     "execution_count": 72,
     "metadata": {},
     "output_type": "execute_result"
    }
   ],
   "source": [
    "j_pipe3.invoke(\"Is there any latest information about NASA workshops and projefcts and are there any planning rregarding mars explorations by astronauts\")"
   ]
  },
  {
   "cell_type": "code",
   "execution_count": 75,
   "metadata": {},
   "outputs": [
    {
     "data": {
      "text/plain": [
       "{'user_intent': 'project_details',\n",
       " 'entities': ['prabhas'],\n",
       " 'response_suggestions': ['Yes, Prabhas has an upcoming project called Radhe Shyam. The shooting has already started for this film.']}"
      ]
     },
     "execution_count": 75,
     "metadata": {},
     "output_type": "execute_result"
    }
   ],
   "source": [
    "j_pipe3.invoke(\"is there any new project prabhas working on other than spirit and did the shooting started \")"
   ]
  },
  {
   "cell_type": "code",
   "execution_count": 77,
   "metadata": {},
   "outputs": [
    {
     "data": {
      "text/plain": [
       "{'user_intent': 'information',\n",
       " 'entities': ['ChatGPT', 'year', 'right now'],\n",
       " 'response_suggestions': ['ChatGPT is using information from the current year.',\n",
       "  'The year used by ChatGPT may vary depending on the context.',\n",
       "  'ChatGPT is constantly updating its database to provide accurate information.']}"
      ]
     },
     "execution_count": 77,
     "metadata": {},
     "output_type": "execute_result"
    }
   ],
   "source": [
    "j_pipe3.invoke(\"Of which year information ChatGPT is using right now\")"
   ]
  },
  {
   "cell_type": "markdown",
   "metadata": {},
   "source": [
    "# Implementing Comma Seperated List Output Parser"
   ]
  },
  {
   "cell_type": "code",
   "execution_count": 81,
   "metadata": {},
   "outputs": [],
   "source": [
    "from langchain.output_parsers import CommaSeparatedListOutputParser\n",
    "output_parser = CommaSeparatedListOutputParser"
   ]
  },
  {
   "cell_type": "code",
   "execution_count": 101,
   "metadata": {},
   "outputs": [],
   "source": [
    "# Assuming this is your parser class\n",
    "class CommaSeparatedListOutputParser:\n",
    "    def get_format_instructions(self):\n",
    "        return \"Comma-separated list of items.\"\n",
    "\n",
    "# Create an instance of the class\n",
    "output_parser = CommaSeparatedListOutputParser()\n",
    "\n",
    "# Now you can call the method on the instance\n",
    "format_instructions = output_parser.get_format_instructions()\n"
   ]
  },
  {
   "cell_type": "markdown",
   "metadata": {},
   "source": [
    "This code defines a custom parser class, `CommaSeparatedListOutputParser`, which provides format instructions for a comma-separated list of items. An instance of the class is created, and its `get_format_instructions` method is called to retrieve the format instructions. This approach is useful for standardizing how outputs should be formatted."
   ]
  },
  {
   "cell_type": "code",
   "execution_count": 122,
   "metadata": {},
   "outputs": [],
   "source": [
    "prompt = PromptTemplate(\n",
    "template=\"List five {subject}.\\n{format_instructions}\",\n",
    "input_variables=[\"subject\"],\n",
    "partial_variables={\"format_instructions\": format_instructions}\n",
    ")\n"
   ]
  },
  {
   "cell_type": "code",
   "execution_count": 123,
   "metadata": {},
   "outputs": [
    {
     "data": {
      "text/plain": [
       "'\\n\\nViswanathan Anand, Pentala Harikrishna, Vidit Gujrathi, Baskaran Adhiban, K. Sasikiran'"
      ]
     },
     "execution_count": 123,
     "metadata": {},
     "output_type": "execute_result"
    }
   ],
   "source": [
    "query = \"Grandmasters of India\"\n",
    "output = model(prompt.format(subject=query))\n",
    "output"
   ]
  },
  {
   "cell_type": "code",
   "execution_count": 124,
   "metadata": {},
   "outputs": [
    {
     "data": {
      "text/plain": [
       "['Viswanathan Anand',\n",
       " 'Pentala Harikrishna',\n",
       " 'Vidit Gujrathi',\n",
       " 'Baskaran Adhiban',\n",
       " 'K. Sasikiran']"
      ]
     },
     "execution_count": 124,
     "metadata": {},
     "output_type": "execute_result"
    }
   ],
   "source": [
    "parsed_result = output_parser.parse(output)\n",
    "parsed_result"
   ]
  },
  {
   "cell_type": "code",
   "execution_count": 125,
   "metadata": {},
   "outputs": [
    {
     "data": {
      "text/plain": [
       "'\\n\\n1. Tokyo, Japan\\n2. Delhi, India\\n3. Shanghai, China\\n4. Mumbai, India\\n5. São Paulo, Brazil'"
      ]
     },
     "execution_count": 125,
     "metadata": {},
     "output_type": "execute_result"
    }
   ],
   "source": [
    "query1 = \"top most populated cities in the world\"\n",
    "output1 = model(prompt.format(subject = query1))\n",
    "output1"
   ]
  },
  {
   "cell_type": "code",
   "execution_count": 127,
   "metadata": {},
   "outputs": [
    {
     "data": {
      "text/plain": [
       "['1. Tokyo',\n",
       " 'Japan',\n",
       " '2. Delhi',\n",
       " 'India',\n",
       " '3. Shanghai',\n",
       " 'China',\n",
       " '4. Mumbai',\n",
       " 'India',\n",
       " '5. São Paulo',\n",
       " 'Brazil']"
      ]
     },
     "execution_count": 127,
     "metadata": {},
     "output_type": "execute_result"
    }
   ],
   "source": [
    "parsed_result1 = output_parser.parse(output1)\n",
    "parsed_result1"
   ]
  },
  {
   "cell_type": "code",
   "execution_count": 128,
   "metadata": {},
   "outputs": [
    {
     "data": {
      "text/plain": [
       "'\\n1. Bugatti La Voiture Noire\\n2. Rolls-Royce Sweptail\\n3. Bugatti Centodieci\\n4. Mercedes-Benz Maybach Exelero\\n5. Koenigsegg CCXR Trevita'"
      ]
     },
     "execution_count": 128,
     "metadata": {},
     "output_type": "execute_result"
    }
   ],
   "source": [
    "query2 = \"top most expensive cars in the world\"\n",
    "output2 = model(prompt.format(subject = query2))\n",
    "output2"
   ]
  },
  {
   "cell_type": "code",
   "execution_count": 129,
   "metadata": {},
   "outputs": [
    {
     "data": {
      "text/plain": [
       "['1. Bugatti La Voiture Noire',\n",
       " '2. Rolls-Royce Sweptail',\n",
       " '3. Bugatti Centodieci',\n",
       " '4. Mercedes-Benz Maybach Exelero',\n",
       " '5. Koenigsegg CCXR Trevita']"
      ]
     },
     "execution_count": 129,
     "metadata": {},
     "output_type": "execute_result"
    }
   ],
   "source": [
    "parsed_result2= output_parser.parse(output2)\n",
    "parsed_result2"
   ]
  },
  {
   "cell_type": "code",
   "execution_count": 131,
   "metadata": {},
   "outputs": [
    {
     "data": {
      "text/plain": [
       "'\\n\\n1. Avengers: Endgame\\n2. Parasite\\n3. Joker\\n4. Black Panther\\n5. The Dark Knight'"
      ]
     },
     "execution_count": 131,
     "metadata": {},
     "output_type": "execute_result"
    }
   ],
   "source": [
    "query3 = \"top most exciting movies to watch \"\n",
    "output3 = model(prompt.format(subject = query3))\n",
    "output3"
   ]
  },
  {
   "cell_type": "code",
   "execution_count": 133,
   "metadata": {},
   "outputs": [
    {
     "data": {
      "text/plain": [
       "['1. Avengers: Endgame',\n",
       " '2. Parasite',\n",
       " '3. Joker',\n",
       " '4. Black Panther',\n",
       " '5. The Dark Knight']"
      ]
     },
     "execution_count": 133,
     "metadata": {},
     "output_type": "execute_result"
    }
   ],
   "source": [
    "parsed_result3 = output_parser.parse(output3)\n",
    "parsed_result3"
   ]
  }
 ],
 "metadata": {
  "kernelspec": {
   "display_name": "Python 3",
   "language": "python",
   "name": "python3"
  },
  "language_info": {
   "codemirror_mode": {
    "name": "ipython",
    "version": 3
   },
   "file_extension": ".py",
   "mimetype": "text/x-python",
   "name": "python",
   "nbconvert_exporter": "python",
   "pygments_lexer": "ipython3",
   "version": "3.12.8"
  }
 },
 "nbformat": 4,
 "nbformat_minor": 2
}
