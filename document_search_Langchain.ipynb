{
 "cells": [
  {
   "cell_type": "markdown",
   "id": "d9c38c2b-88dc-4ba2-a590-e962edae712c",
   "metadata": {},
   "source": [
    "# Document Question and Answering using Langchain"
   ]
  },
  {
   "cell_type": "markdown",
   "id": "ce5f7276-73e8-466c-acbc-6f7eb88eb2c9",
   "metadata": {},
   "source": [
    "# Set Key in environment"
   ]
  },
  {
   "cell_type": "code",
   "execution_count": 1,
   "id": "1cd4767c-b649-4cfb-a7eb-b971ceecfc71",
   "metadata": {},
   "outputs": [],
   "source": [
    "import os\n",
    "os.environ[\"OPENAI_API_KEY\"]=\"OPENAI_API_KEY\""
   ]
  },
  {
   "cell_type": "markdown",
   "id": "2624e6e3-f096-4243-b099-5c8caa47fec8",
   "metadata": {},
   "source": [
    "# Load documents"
   ]
  },
  {
   "cell_type": "code",
   "execution_count": 2,
   "id": "a01c2206-6914-41f4-a104-c808ed6a63a2",
   "metadata": {},
   "outputs": [],
   "source": [
    "from langchain.document_loaders import PyPDFLoader"
   ]
  },
  {
   "cell_type": "code",
   "execution_count": 3,
   "id": "2e7cfe68-f512-4a64-9eab-0a44d1b48850",
   "metadata": {},
   "outputs": [],
   "source": [
    "from langchain.document_loaders import PyPDFLoader, PyPDFDirectoryLoader"
   ]
  },
  {
   "cell_type": "code",
   "execution_count": 5,
   "id": "d16f63f4-f439-40df-ae18-1732819c0532",
   "metadata": {},
   "outputs": [],
   "source": [
    "documents = PyPDFDirectoryLoader(\"E:\\\\LANGCHAIN_API\\\\reactsjsresumes\").load()"
   ]
  },
  {
   "cell_type": "code",
   "execution_count": 6,
   "id": "1e2d1753-63e9-41f8-85ee-f416669bb611",
   "metadata": {},
   "outputs": [],
   "source": [
    "#documents"
   ]
  },
  {
   "cell_type": "markdown",
   "id": "8e0a6e20-39eb-446f-a5a0-dc416cd7a2ad",
   "metadata": {},
   "source": [
    "# Initiate LLM"
   ]
  },
  {
   "cell_type": "code",
   "execution_count": 11,
   "id": "c68aeead-8049-4f13-b713-c6ba98dce4fe",
   "metadata": {
    "scrolled": true
   },
   "outputs": [
    {
     "name": "stdout",
     "output_type": "stream",
     "text": [
      "Defaulting to user installation because normal site-packages is not writeable\n",
      "Collecting langchain_openai\n",
      "  Downloading langchain_openai-0.2.8-py3-none-any.whl.metadata (2.6 kB)\n",
      "Requirement already satisfied: langchain-core<0.4.0,>=0.3.17 in c:\\users\\gkris\\appdata\\local\\packages\\pythonsoftwarefoundation.python.3.12_qbz5n2kfra8p0\\localcache\\local-packages\\python312\\site-packages (from langchain_openai) (0.3.18)\n",
      "Requirement already satisfied: openai<2.0.0,>=1.54.0 in c:\\users\\gkris\\appdata\\local\\packages\\pythonsoftwarefoundation.python.3.12_qbz5n2kfra8p0\\localcache\\local-packages\\python312\\site-packages (from langchain_openai) (1.54.3)\n",
      "Requirement already satisfied: tiktoken<1,>=0.7 in c:\\users\\gkris\\appdata\\local\\packages\\pythonsoftwarefoundation.python.3.12_qbz5n2kfra8p0\\localcache\\local-packages\\python312\\site-packages (from langchain_openai) (0.8.0)\n",
      "Requirement already satisfied: PyYAML>=5.3 in c:\\users\\gkris\\appdata\\local\\packages\\pythonsoftwarefoundation.python.3.12_qbz5n2kfra8p0\\localcache\\local-packages\\python312\\site-packages (from langchain-core<0.4.0,>=0.3.17->langchain_openai) (6.0.2)\n",
      "Requirement already satisfied: jsonpatch<2.0,>=1.33 in c:\\users\\gkris\\appdata\\local\\packages\\pythonsoftwarefoundation.python.3.12_qbz5n2kfra8p0\\localcache\\local-packages\\python312\\site-packages (from langchain-core<0.4.0,>=0.3.17->langchain_openai) (1.33)\n",
      "Requirement already satisfied: langsmith<0.2.0,>=0.1.125 in c:\\users\\gkris\\appdata\\local\\packages\\pythonsoftwarefoundation.python.3.12_qbz5n2kfra8p0\\localcache\\local-packages\\python312\\site-packages (from langchain-core<0.4.0,>=0.3.17->langchain_openai) (0.1.143)\n",
      "Requirement already satisfied: packaging<25,>=23.2 in c:\\users\\gkris\\appdata\\local\\packages\\pythonsoftwarefoundation.python.3.12_qbz5n2kfra8p0\\localcache\\local-packages\\python312\\site-packages (from langchain-core<0.4.0,>=0.3.17->langchain_openai) (24.1)\n",
      "Requirement already satisfied: pydantic<3.0.0,>=2.7.4 in c:\\users\\gkris\\appdata\\local\\packages\\pythonsoftwarefoundation.python.3.12_qbz5n2kfra8p0\\localcache\\local-packages\\python312\\site-packages (from langchain-core<0.4.0,>=0.3.17->langchain_openai) (2.9.2)\n",
      "Requirement already satisfied: tenacity!=8.4.0,<10.0.0,>=8.1.0 in c:\\users\\gkris\\appdata\\local\\packages\\pythonsoftwarefoundation.python.3.12_qbz5n2kfra8p0\\localcache\\local-packages\\python312\\site-packages (from langchain-core<0.4.0,>=0.3.17->langchain_openai) (8.5.0)\n",
      "Requirement already satisfied: typing-extensions>=4.7 in c:\\users\\gkris\\appdata\\local\\packages\\pythonsoftwarefoundation.python.3.12_qbz5n2kfra8p0\\localcache\\local-packages\\python312\\site-packages (from langchain-core<0.4.0,>=0.3.17->langchain_openai) (4.12.2)\n",
      "Requirement already satisfied: anyio<5,>=3.5.0 in c:\\users\\gkris\\appdata\\local\\packages\\pythonsoftwarefoundation.python.3.12_qbz5n2kfra8p0\\localcache\\local-packages\\python312\\site-packages (from openai<2.0.0,>=1.54.0->langchain_openai) (4.6.2.post1)\n",
      "Requirement already satisfied: distro<2,>=1.7.0 in c:\\users\\gkris\\appdata\\local\\packages\\pythonsoftwarefoundation.python.3.12_qbz5n2kfra8p0\\localcache\\local-packages\\python312\\site-packages (from openai<2.0.0,>=1.54.0->langchain_openai) (1.9.0)\n",
      "Requirement already satisfied: httpx<1,>=0.23.0 in c:\\users\\gkris\\appdata\\local\\packages\\pythonsoftwarefoundation.python.3.12_qbz5n2kfra8p0\\localcache\\local-packages\\python312\\site-packages (from openai<2.0.0,>=1.54.0->langchain_openai) (0.27.2)\n",
      "Requirement already satisfied: jiter<1,>=0.4.0 in c:\\users\\gkris\\appdata\\local\\packages\\pythonsoftwarefoundation.python.3.12_qbz5n2kfra8p0\\localcache\\local-packages\\python312\\site-packages (from openai<2.0.0,>=1.54.0->langchain_openai) (0.7.0)\n",
      "Requirement already satisfied: sniffio in c:\\users\\gkris\\appdata\\local\\packages\\pythonsoftwarefoundation.python.3.12_qbz5n2kfra8p0\\localcache\\local-packages\\python312\\site-packages (from openai<2.0.0,>=1.54.0->langchain_openai) (1.3.1)\n",
      "Requirement already satisfied: tqdm>4 in c:\\users\\gkris\\appdata\\local\\packages\\pythonsoftwarefoundation.python.3.12_qbz5n2kfra8p0\\localcache\\local-packages\\python312\\site-packages (from openai<2.0.0,>=1.54.0->langchain_openai) (4.66.5)\n",
      "Requirement already satisfied: regex>=2022.1.18 in c:\\users\\gkris\\appdata\\local\\packages\\pythonsoftwarefoundation.python.3.12_qbz5n2kfra8p0\\localcache\\local-packages\\python312\\site-packages (from tiktoken<1,>=0.7->langchain_openai) (2024.7.24)\n",
      "Requirement already satisfied: requests>=2.26.0 in c:\\users\\gkris\\appdata\\local\\packages\\pythonsoftwarefoundation.python.3.12_qbz5n2kfra8p0\\localcache\\local-packages\\python312\\site-packages (from tiktoken<1,>=0.7->langchain_openai) (2.32.3)\n",
      "Requirement already satisfied: idna>=2.8 in c:\\users\\gkris\\appdata\\local\\packages\\pythonsoftwarefoundation.python.3.12_qbz5n2kfra8p0\\localcache\\local-packages\\python312\\site-packages (from anyio<5,>=3.5.0->openai<2.0.0,>=1.54.0->langchain_openai) (3.7)\n",
      "Requirement already satisfied: certifi in c:\\users\\gkris\\appdata\\local\\packages\\pythonsoftwarefoundation.python.3.12_qbz5n2kfra8p0\\localcache\\local-packages\\python312\\site-packages (from httpx<1,>=0.23.0->openai<2.0.0,>=1.54.0->langchain_openai) (2024.7.4)\n",
      "Requirement already satisfied: httpcore==1.* in c:\\users\\gkris\\appdata\\local\\packages\\pythonsoftwarefoundation.python.3.12_qbz5n2kfra8p0\\localcache\\local-packages\\python312\\site-packages (from httpx<1,>=0.23.0->openai<2.0.0,>=1.54.0->langchain_openai) (1.0.6)\n",
      "Requirement already satisfied: h11<0.15,>=0.13 in c:\\users\\gkris\\appdata\\local\\packages\\pythonsoftwarefoundation.python.3.12_qbz5n2kfra8p0\\localcache\\local-packages\\python312\\site-packages (from httpcore==1.*->httpx<1,>=0.23.0->openai<2.0.0,>=1.54.0->langchain_openai) (0.14.0)\n",
      "Requirement already satisfied: jsonpointer>=1.9 in c:\\users\\gkris\\appdata\\local\\packages\\pythonsoftwarefoundation.python.3.12_qbz5n2kfra8p0\\localcache\\local-packages\\python312\\site-packages (from jsonpatch<2.0,>=1.33->langchain-core<0.4.0,>=0.3.17->langchain_openai) (3.0.0)\n",
      "Requirement already satisfied: orjson<4.0.0,>=3.9.14 in c:\\users\\gkris\\appdata\\local\\packages\\pythonsoftwarefoundation.python.3.12_qbz5n2kfra8p0\\localcache\\local-packages\\python312\\site-packages (from langsmith<0.2.0,>=0.1.125->langchain-core<0.4.0,>=0.3.17->langchain_openai) (3.10.11)\n",
      "Requirement already satisfied: requests-toolbelt<2.0.0,>=1.0.0 in c:\\users\\gkris\\appdata\\local\\packages\\pythonsoftwarefoundation.python.3.12_qbz5n2kfra8p0\\localcache\\local-packages\\python312\\site-packages (from langsmith<0.2.0,>=0.1.125->langchain-core<0.4.0,>=0.3.17->langchain_openai) (1.0.0)\n",
      "Requirement already satisfied: annotated-types>=0.6.0 in c:\\users\\gkris\\appdata\\local\\packages\\pythonsoftwarefoundation.python.3.12_qbz5n2kfra8p0\\localcache\\local-packages\\python312\\site-packages (from pydantic<3.0.0,>=2.7.4->langchain-core<0.4.0,>=0.3.17->langchain_openai) (0.7.0)\n",
      "Requirement already satisfied: pydantic-core==2.23.4 in c:\\users\\gkris\\appdata\\local\\packages\\pythonsoftwarefoundation.python.3.12_qbz5n2kfra8p0\\localcache\\local-packages\\python312\\site-packages (from pydantic<3.0.0,>=2.7.4->langchain-core<0.4.0,>=0.3.17->langchain_openai) (2.23.4)\n",
      "Requirement already satisfied: charset-normalizer<4,>=2 in c:\\users\\gkris\\appdata\\local\\packages\\pythonsoftwarefoundation.python.3.12_qbz5n2kfra8p0\\localcache\\local-packages\\python312\\site-packages (from requests>=2.26.0->tiktoken<1,>=0.7->langchain_openai) (3.3.2)\n",
      "Requirement already satisfied: urllib3<3,>=1.21.1 in c:\\users\\gkris\\appdata\\local\\packages\\pythonsoftwarefoundation.python.3.12_qbz5n2kfra8p0\\localcache\\local-packages\\python312\\site-packages (from requests>=2.26.0->tiktoken<1,>=0.7->langchain_openai) (2.2.2)\n",
      "Requirement already satisfied: colorama in c:\\users\\gkris\\appdata\\local\\packages\\pythonsoftwarefoundation.python.3.12_qbz5n2kfra8p0\\localcache\\local-packages\\python312\\site-packages (from tqdm>4->openai<2.0.0,>=1.54.0->langchain_openai) (0.4.6)\n",
      "Downloading langchain_openai-0.2.8-py3-none-any.whl (50 kB)\n",
      "Installing collected packages: langchain_openai\n",
      "Successfully installed langchain_openai-0.2.8\n"
     ]
    },
    {
     "name": "stderr",
     "output_type": "stream",
     "text": [
      "\n",
      "[notice] A new release of pip is available: 24.2 -> 24.3.1\n",
      "[notice] To update, run: C:\\Users\\gkris\\AppData\\Local\\Microsoft\\WindowsApps\\PythonSoftwareFoundation.Python.3.12_qbz5n2kfra8p0\\python.exe -m pip install --upgrade pip\n"
     ]
    }
   ],
   "source": [
    "!pip install langchain_openai"
   ]
  },
  {
   "cell_type": "code",
   "execution_count": 12,
   "id": "4a738645-4e74-40f9-a771-01e04b582292",
   "metadata": {},
   "outputs": [
    {
     "name": "stdout",
     "output_type": "stream",
     "text": [
      "Defaulting to user installation because normal site-packages is not writeable\n",
      "Collecting openai==1.54.0\n",
      "  Downloading openai-1.54.0-py3-none-any.whl.metadata (24 kB)\n",
      "Collecting langchain-core==0.3.17\n",
      "  Downloading langchain_core-0.3.17-py3-none-any.whl.metadata (6.3 kB)\n",
      "Requirement already satisfied: anyio<5,>=3.5.0 in c:\\users\\gkris\\appdata\\local\\packages\\pythonsoftwarefoundation.python.3.12_qbz5n2kfra8p0\\localcache\\local-packages\\python312\\site-packages (from openai==1.54.0) (4.6.2.post1)\n",
      "Requirement already satisfied: distro<2,>=1.7.0 in c:\\users\\gkris\\appdata\\local\\packages\\pythonsoftwarefoundation.python.3.12_qbz5n2kfra8p0\\localcache\\local-packages\\python312\\site-packages (from openai==1.54.0) (1.9.0)\n",
      "Requirement already satisfied: httpx<1,>=0.23.0 in c:\\users\\gkris\\appdata\\local\\packages\\pythonsoftwarefoundation.python.3.12_qbz5n2kfra8p0\\localcache\\local-packages\\python312\\site-packages (from openai==1.54.0) (0.27.2)\n",
      "Requirement already satisfied: jiter<1,>=0.4.0 in c:\\users\\gkris\\appdata\\local\\packages\\pythonsoftwarefoundation.python.3.12_qbz5n2kfra8p0\\localcache\\local-packages\\python312\\site-packages (from openai==1.54.0) (0.7.0)\n",
      "Requirement already satisfied: pydantic<3,>=1.9.0 in c:\\users\\gkris\\appdata\\local\\packages\\pythonsoftwarefoundation.python.3.12_qbz5n2kfra8p0\\localcache\\local-packages\\python312\\site-packages (from openai==1.54.0) (2.9.2)\n",
      "Requirement already satisfied: sniffio in c:\\users\\gkris\\appdata\\local\\packages\\pythonsoftwarefoundation.python.3.12_qbz5n2kfra8p0\\localcache\\local-packages\\python312\\site-packages (from openai==1.54.0) (1.3.1)\n",
      "Requirement already satisfied: tqdm>4 in c:\\users\\gkris\\appdata\\local\\packages\\pythonsoftwarefoundation.python.3.12_qbz5n2kfra8p0\\localcache\\local-packages\\python312\\site-packages (from openai==1.54.0) (4.66.5)\n",
      "Requirement already satisfied: typing-extensions<5,>=4.11 in c:\\users\\gkris\\appdata\\local\\packages\\pythonsoftwarefoundation.python.3.12_qbz5n2kfra8p0\\localcache\\local-packages\\python312\\site-packages (from openai==1.54.0) (4.12.2)\n",
      "Requirement already satisfied: PyYAML>=5.3 in c:\\users\\gkris\\appdata\\local\\packages\\pythonsoftwarefoundation.python.3.12_qbz5n2kfra8p0\\localcache\\local-packages\\python312\\site-packages (from langchain-core==0.3.17) (6.0.2)\n",
      "Requirement already satisfied: jsonpatch<2.0,>=1.33 in c:\\users\\gkris\\appdata\\local\\packages\\pythonsoftwarefoundation.python.3.12_qbz5n2kfra8p0\\localcache\\local-packages\\python312\\site-packages (from langchain-core==0.3.17) (1.33)\n",
      "Requirement already satisfied: langsmith<0.2.0,>=0.1.125 in c:\\users\\gkris\\appdata\\local\\packages\\pythonsoftwarefoundation.python.3.12_qbz5n2kfra8p0\\localcache\\local-packages\\python312\\site-packages (from langchain-core==0.3.17) (0.1.143)\n",
      "Requirement already satisfied: packaging<25,>=23.2 in c:\\users\\gkris\\appdata\\local\\packages\\pythonsoftwarefoundation.python.3.12_qbz5n2kfra8p0\\localcache\\local-packages\\python312\\site-packages (from langchain-core==0.3.17) (24.1)\n",
      "Requirement already satisfied: tenacity!=8.4.0,<10.0.0,>=8.1.0 in c:\\users\\gkris\\appdata\\local\\packages\\pythonsoftwarefoundation.python.3.12_qbz5n2kfra8p0\\localcache\\local-packages\\python312\\site-packages (from langchain-core==0.3.17) (8.5.0)\n",
      "Requirement already satisfied: idna>=2.8 in c:\\users\\gkris\\appdata\\local\\packages\\pythonsoftwarefoundation.python.3.12_qbz5n2kfra8p0\\localcache\\local-packages\\python312\\site-packages (from anyio<5,>=3.5.0->openai==1.54.0) (3.7)\n",
      "Requirement already satisfied: certifi in c:\\users\\gkris\\appdata\\local\\packages\\pythonsoftwarefoundation.python.3.12_qbz5n2kfra8p0\\localcache\\local-packages\\python312\\site-packages (from httpx<1,>=0.23.0->openai==1.54.0) (2024.7.4)\n",
      "Requirement already satisfied: httpcore==1.* in c:\\users\\gkris\\appdata\\local\\packages\\pythonsoftwarefoundation.python.3.12_qbz5n2kfra8p0\\localcache\\local-packages\\python312\\site-packages (from httpx<1,>=0.23.0->openai==1.54.0) (1.0.6)\n",
      "Requirement already satisfied: h11<0.15,>=0.13 in c:\\users\\gkris\\appdata\\local\\packages\\pythonsoftwarefoundation.python.3.12_qbz5n2kfra8p0\\localcache\\local-packages\\python312\\site-packages (from httpcore==1.*->httpx<1,>=0.23.0->openai==1.54.0) (0.14.0)\n",
      "Requirement already satisfied: jsonpointer>=1.9 in c:\\users\\gkris\\appdata\\local\\packages\\pythonsoftwarefoundation.python.3.12_qbz5n2kfra8p0\\localcache\\local-packages\\python312\\site-packages (from jsonpatch<2.0,>=1.33->langchain-core==0.3.17) (3.0.0)\n",
      "Requirement already satisfied: orjson<4.0.0,>=3.9.14 in c:\\users\\gkris\\appdata\\local\\packages\\pythonsoftwarefoundation.python.3.12_qbz5n2kfra8p0\\localcache\\local-packages\\python312\\site-packages (from langsmith<0.2.0,>=0.1.125->langchain-core==0.3.17) (3.10.11)\n",
      "Requirement already satisfied: requests<3,>=2 in c:\\users\\gkris\\appdata\\local\\packages\\pythonsoftwarefoundation.python.3.12_qbz5n2kfra8p0\\localcache\\local-packages\\python312\\site-packages (from langsmith<0.2.0,>=0.1.125->langchain-core==0.3.17) (2.32.3)\n",
      "Requirement already satisfied: requests-toolbelt<2.0.0,>=1.0.0 in c:\\users\\gkris\\appdata\\local\\packages\\pythonsoftwarefoundation.python.3.12_qbz5n2kfra8p0\\localcache\\local-packages\\python312\\site-packages (from langsmith<0.2.0,>=0.1.125->langchain-core==0.3.17) (1.0.0)\n",
      "Requirement already satisfied: annotated-types>=0.6.0 in c:\\users\\gkris\\appdata\\local\\packages\\pythonsoftwarefoundation.python.3.12_qbz5n2kfra8p0\\localcache\\local-packages\\python312\\site-packages (from pydantic<3,>=1.9.0->openai==1.54.0) (0.7.0)\n",
      "Requirement already satisfied: pydantic-core==2.23.4 in c:\\users\\gkris\\appdata\\local\\packages\\pythonsoftwarefoundation.python.3.12_qbz5n2kfra8p0\\localcache\\local-packages\\python312\\site-packages (from pydantic<3,>=1.9.0->openai==1.54.0) (2.23.4)\n",
      "Requirement already satisfied: colorama in c:\\users\\gkris\\appdata\\local\\packages\\pythonsoftwarefoundation.python.3.12_qbz5n2kfra8p0\\localcache\\local-packages\\python312\\site-packages (from tqdm>4->openai==1.54.0) (0.4.6)\n",
      "Requirement already satisfied: charset-normalizer<4,>=2 in c:\\users\\gkris\\appdata\\local\\packages\\pythonsoftwarefoundation.python.3.12_qbz5n2kfra8p0\\localcache\\local-packages\\python312\\site-packages (from requests<3,>=2->langsmith<0.2.0,>=0.1.125->langchain-core==0.3.17) (3.3.2)\n",
      "Requirement already satisfied: urllib3<3,>=1.21.1 in c:\\users\\gkris\\appdata\\local\\packages\\pythonsoftwarefoundation.python.3.12_qbz5n2kfra8p0\\localcache\\local-packages\\python312\\site-packages (from requests<3,>=2->langsmith<0.2.0,>=0.1.125->langchain-core==0.3.17) (2.2.2)\n",
      "Downloading openai-1.54.0-py3-none-any.whl (389 kB)\n",
      "Downloading langchain_core-0.3.17-py3-none-any.whl (409 kB)\n",
      "Installing collected packages: openai, langchain-core\n",
      "  Attempting uninstall: openai\n",
      "    Found existing installation: openai 1.54.3\n",
      "    Uninstalling openai-1.54.3:\n",
      "      Successfully uninstalled openai-1.54.3\n",
      "  Attempting uninstall: langchain-core\n",
      "    Found existing installation: langchain-core 0.3.18\n",
      "    Uninstalling langchain-core-0.3.18:\n",
      "      Successfully uninstalled langchain-core-0.3.18\n",
      "Successfully installed langchain-core-0.3.17 openai-1.54.0\n"
     ]
    },
    {
     "name": "stderr",
     "output_type": "stream",
     "text": [
      "\n",
      "[notice] A new release of pip is available: 24.2 -> 24.3.1\n",
      "[notice] To update, run: C:\\Users\\gkris\\AppData\\Local\\Microsoft\\WindowsApps\\PythonSoftwareFoundation.Python.3.12_qbz5n2kfra8p0\\python.exe -m pip install --upgrade pip\n"
     ]
    }
   ],
   "source": [
    "!pip install openai==1.54.0 langchain-core==0.3.17"
   ]
  },
  {
   "cell_type": "code",
   "execution_count": 13,
   "id": "5a853082-1a24-43d3-99e2-309642c9559b",
   "metadata": {},
   "outputs": [],
   "source": [
    "from langchain_openai import OpenAI\n",
    "\n",
    "llm = OpenAI()"
   ]
  },
  {
   "cell_type": "markdown",
   "id": "640f9c44-e6d3-4ff5-83af-23231f3e1a49",
   "metadata": {},
   "source": [
    "# Initiate retriever"
   ]
  },
  {
   "cell_type": "code",
   "execution_count": null,
   "id": "5ad92828-50af-4b19-9d4e-d4726b47a9a7",
   "metadata": {},
   "outputs": [],
   "source": [
    "from langchain_core.vectorstores import InMemoryVectorStore\n",
    "from langchain_openai import OpenAIEmbeddings\n",
    "from langchain.embeddings import OpenAIEmbeddings\n",
    "from langchain_text_splitters import RecursiveCharacterTextSplitter\n",
    "\n",
    "text_splitter = RecursiveCharacterTextSplitter(chunk_size=1000, chunk_overlap=200)\n",
    "splits = text_splitter.split_documents(documents)\n",
    "vectorstore = InMemoryVectorStore.from_documents(\n",
    "    documents=splits, embedding=OpenAIEmbeddings()\n",
    ")\n",
    "\n",
    "retriever = vectorstore.as_retriever()"
   ]
  },
  {
   "cell_type": "markdown",
   "id": "489bb824-9b5f-48f6-b9eb-469ffd82d671",
   "metadata": {},
   "source": [
    "# Retrieve related documents from the question"
   ]
  },
  {
   "cell_type": "code",
   "execution_count": 10,
   "id": "2fc6beec-b422-4852-bc2f-b3235be0090f",
   "metadata": {},
   "outputs": [],
   "source": [
    "retrieved_documents = retriever.invoke(\"Provide names of all people?\")"
   ]
  },
  {
   "cell_type": "code",
   "execution_count": 11,
   "id": "f594a4bd-fa56-4634-a5b4-3d307ef342e6",
   "metadata": {},
   "outputs": [
    {
     "data": {
      "text/plain": [
       "'•\\nLeadership\\nQualities,\\nSmart\\nWorker,\\nSincere.\\n•\\nPassion\\non\\nlearn\\nnew\\nthings.\\n•\\nExpressive\\nCommunication\\nSkills.\\n•\\nConfidence,\\nadaptability\\nnature. \\nTechnical\\nSkills:\\n•\\nHTML\\n•\\nCSS\\n•\\nJAVA\\nSCRIPT\\n•\\nREACT\\nJS\\nPersonal\\nProfile:\\nName\\n:\\nBatchu\\nNagaSanthi\\nSri\\nFather’s\\nname\\n:\\nBatchu\\nSubramanayeswara\\nRao\\nDOB\\n:\\n16-02-2002\\nNationality\\n:\\nIndian\\nHeight\\n:\\n5.2\\nWeight\\n:\\n45\\nLanguages\\nKnown\\n:\\nEnglish,\\nTelugu\\nMarital\\nStatus\\n:\\nSingle\\nHobbies\\n:\\nlistening\\nto\\nmusic\\nand\\nwatching\\nTV\\nGames\\n:\\nKabaddi\\nGender\\n:\\nFemale\\nDeclaration:\\nI\\nhereby\\ndeclare\\nthat\\nthe\\ninformation\\nprovided\\nby\\nme\\nis\\ntrue\\nand\\ncorrect\\nto\\nthe \\nbest\\nof\\nmy\\nknowledge\\nand\\nbelief.\\nPlace:\\nAvanigadda,\\nB.\\nSanthi'"
      ]
     },
     "execution_count": 11,
     "metadata": {},
     "output_type": "execute_result"
    }
   ],
   "source": [
    "retrieved_documents[1].page_content"
   ]
  },
  {
   "cell_type": "code",
   "execution_count": 12,
   "id": "1864adf4-04a3-4ed4-b332-3f8c884c6325",
   "metadata": {},
   "outputs": [],
   "source": [
    "ret_doc=''\n",
    "for i1 in retrieved_documents:\n",
    "    ret_doc = ret_doc+i1.page_content"
   ]
  },
  {
   "cell_type": "markdown",
   "id": "c4838043-5ce5-48d7-9b9e-230817ad31d5",
   "metadata": {},
   "source": [
    "# Make a prompt and ask question from the retrieved documents"
   ]
  },
  {
   "cell_type": "code",
   "execution_count": 14,
   "id": "922d8805-2cf4-47dc-883a-2200172cb2d6",
   "metadata": {},
   "outputs": [
    {
     "data": {
      "text/plain": [
       "' - Jahnavi Yarramsetty, NagaSanthi Sri Batchu'"
      ]
     },
     "execution_count": 14,
     "metadata": {},
     "output_type": "execute_result"
    }
   ],
   "source": [
    "llm.invoke(f\"provide me developer names from this text {ret_doc} in csv format\")\n"
   ]
  }
 ],
 "metadata": {
  "kernelspec": {
   "display_name": "Python 3",
   "language": "python",
   "name": "python3"
  },
  "language_info": {
   "codemirror_mode": {
    "name": "ipython",
    "version": 3
   },
   "file_extension": ".py",
   "mimetype": "text/x-python",
   "name": "python",
   "nbconvert_exporter": "python",
   "pygments_lexer": "ipython3",
   "version": "3.12.8"
  }
 },
 "nbformat": 4,
 "nbformat_minor": 5
}
